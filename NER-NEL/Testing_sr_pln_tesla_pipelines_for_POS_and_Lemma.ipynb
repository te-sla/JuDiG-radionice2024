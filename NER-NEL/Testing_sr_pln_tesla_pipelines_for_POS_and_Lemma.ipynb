{
  "cells": [
    {
      "cell_type": "markdown",
      "source": [
        "PRIMENA MODELA JERTEH-355-TESLA\n",
        "\n",
        "Sveska je deo materijala radionice konferencije JuDig\n",
        "\n",
        "21-23.novembar 2024. Beograd, Filološki fakultet"
      ],
      "metadata": {
        "id": "g4bxf5qncWlF"
      }
    },
    {
      "cell_type": "code",
      "execution_count": null,
      "metadata": {
        "id": "9lvtVsay4LRM"
      },
      "outputs": [],
      "source": [
        "# !pip install https://huggingface.co/Tanor/sr_pln_tesla_j125/resolve/main/sr_pln_tesla_j125-any-py3-none-any.whl\n",
        "!pip install https://huggingface.co/Tanor/sr_pln_tesla_j355/resolve/main/sr_pln_tesla_j355-any-py3-none-any.whl\n",
        "#!pip install https://huggingface.co/Tanor/sr_pln_tesla_bcx/resolve/main/sr_pln_tesla_bcx-any-py3-none-any.whl\n",
        "!pip install nbpresent\n"
      ]
    },
    {
      "cell_type": "code",
      "source": [
        "!wget https://huggingface.co/Tanor/sr_pln_tesla_j355/resolve/main/sr_pln_tesla_j355-any-py3-none-any.whl -O sr_pln_tesla_j355-0.1-py3-none-any.whl\n",
        "!pip install sr_pln_tesla_j355-0.1-py3-none-any.whl\n"
      ],
      "metadata": {
        "id": "H88kuCNScvHv"
      },
      "execution_count": null,
      "outputs": []
    },
    {
      "cell_type": "code",
      "execution_count": null,
      "metadata": {
        "id": "BUqkD1OF4UYz"
      },
      "outputs": [],
      "source": [
        "import spacy\n",
        "from spacy import displacy\n",
        "from IPython.display import HTML\n",
        "\n",
        "#Choose one: more breaks RAM if used at same time.\n",
        "\n",
        "#nlp = spacy.load(\"sr_pln_tesla_j125\")\n",
        "nlp = spacy.load(\"sr_pln_tesla_j355\")\n",
        "#nlp = spacy.load(\"sr_pln_tesla_bcx\")\n"
      ]
    },
    {
      "cell_type": "code",
      "execution_count": null,
      "metadata": {
        "colab": {
          "base_uri": "https://localhost:8080/"
        },
        "id": "_G4TOpHH4n3M",
        "outputId": "39b7b852-235b-4162-b4e7-fe886ee68aad"
      },
      "outputs": [
        {
          "name": "stdout",
          "output_type": "stream",
          "text": [
            "<spacy.lang.sr.Serbian object at 0x7bba02a8ffd0>\n"
          ]
        }
      ],
      "source": [
        "print (nlp)"
      ]
    },
    {
      "cell_type": "code",
      "execution_count": null,
      "metadata": {
        "colab": {
          "base_uri": "https://localhost:8080/"
        },
        "id": "nJbC7VKY472U",
        "outputId": "152fc88a-268e-45dd-c531-394edf0a87c1"
      },
      "outputs": [
        {
          "name": "stdout",
          "output_type": "stream",
          "text": [
            "['transformer', 'tagger', 'trainable_lemmatizer', 'ner']\n"
          ]
        }
      ],
      "source": [
        "print(nlp.pipe_names)"
      ]
    },
    {
      "cell_type": "markdown",
      "metadata": {
        "id": "xpNyxKvY4-MM"
      },
      "source": [
        "Now we test some sentces"
      ]
    },
    {
      "cell_type": "code",
      "execution_count": null,
      "metadata": {
        "id": "qpGp8w204_Jc"
      },
      "outputs": [],
      "source": [
        "doc = nlp(\"Sveti Sava je bio prvi srpski arhiepiskop.\")"
      ]
    },
    {
      "cell_type": "code",
      "execution_count": null,
      "metadata": {
        "id": "qyMo_VmM5KN9"
      },
      "outputs": [],
      "source": [
        "def show_ner(doc):\n",
        "  html = displacy.render(doc, style=\"ent\", page=False)\n",
        "  display(HTML(html))"
      ]
    },
    {
      "cell_type": "code",
      "execution_count": null,
      "metadata": {
        "id": "AxL0KsKRvuKe"
      },
      "outputs": [],
      "source": [
        "from textwrap import TextWrapper\n",
        "def show_doc_info(doc):\n",
        "  \"\"\"\n",
        "  This function takes a spaCy document and prints out information about the document, including the tokens, part-of-speech tags (POS), and lemmas.\n",
        "\n",
        "  Args:\n",
        "    doc: A spaCy document object.\n",
        "  \"\"\"\n",
        "  wrapper = TextWrapper(width=70)\n",
        "\n",
        "  # Replace the original print statement with this:\n",
        "  print(f\"Document text: {wrapper.wrap(doc.text)}\")\n",
        "\n",
        "  # Print the tokens, POS tags, and lemmas\n",
        "  for token in doc:\n",
        "    print(f\"- Token: {token.text}, POS: {token.tag_}, Lemma: {token.lemma_}\")"
      ]
    },
    {
      "cell_type": "code",
      "execution_count": null,
      "metadata": {
        "colab": {
          "base_uri": "https://localhost:8080/",
          "height": 69
        },
        "id": "2z-rhEGgwnaW",
        "outputId": "ea1be836-354c-4b18-fba8-08804d31cc6c"
      },
      "outputs": [
        {
          "data": {
            "text/html": [
              "<span class=\"tex2jax_ignore\"><div class=\"entities\" style=\"line-height: 2.5; direction: ltr\">\n",
              "<mark class=\"entity\" style=\"background: #ddd; padding: 0.45em 0.6em; margin: 0 0.25em; line-height: 1; border-radius: 0.35em;\">\n",
              "    Sveti Sava\n",
              "    <span style=\"font-size: 0.8em; font-weight: bold; line-height: 1; border-radius: 0.35em; vertical-align: middle; margin-left: 0.5rem\">PERS</span>\n",
              "</mark>\n",
              " je bio prvi \n",
              "<mark class=\"entity\" style=\"background: #ddd; padding: 0.45em 0.6em; margin: 0 0.25em; line-height: 1; border-radius: 0.35em;\">\n",
              "    srpski\n",
              "    <span style=\"font-size: 0.8em; font-weight: bold; line-height: 1; border-radius: 0.35em; vertical-align: middle; margin-left: 0.5rem\">DEMO</span>\n",
              "</mark>\n",
              " \n",
              "<mark class=\"entity\" style=\"background: #ddd; padding: 0.45em 0.6em; margin: 0 0.25em; line-height: 1; border-radius: 0.35em;\">\n",
              "    arhiepiskop\n",
              "    <span style=\"font-size: 0.8em; font-weight: bold; line-height: 1; border-radius: 0.35em; vertical-align: middle; margin-left: 0.5rem\">ROLE</span>\n",
              "</mark>\n",
              ".</div></span>"
            ],
            "text/plain": [
              "<IPython.core.display.HTML object>"
            ]
          },
          "metadata": {},
          "output_type": "display_data"
        },
        {
          "data": {
            "text/plain": [
              "<IPython.core.display.HTML object>"
            ]
          },
          "metadata": {},
          "output_type": "display_data"
        }
      ],
      "source": [
        "show_ner(doc)"
      ]
    },
    {
      "cell_type": "code",
      "execution_count": null,
      "metadata": {
        "colab": {
          "base_uri": "https://localhost:8080/"
        },
        "id": "Q2KPMFlexG2F",
        "outputId": "8726df33-af08-4dec-8a76-5a76dff540c2"
      },
      "outputs": [
        {
          "name": "stdout",
          "output_type": "stream",
          "text": [
            "Document text: ['Sveti Sava je bio prvi srpski arhiepiskop.']\n",
            "- Token: Sveti, POS: PROPN, Lemma: Sveta\n",
            "- Token: Sava, POS: PROPN, Lemma: Sava\n",
            "- Token: je, POS: AUX, Lemma: jesam\n",
            "- Token: bio, POS: AUX, Lemma: biti\n",
            "- Token: prvi, POS: ADJ, Lemma: prvi\n",
            "- Token: srpski, POS: ADJ, Lemma: srpski\n",
            "- Token: arhiepiskop, POS: NOUN, Lemma: arhiepiskop\n",
            "- Token: ., POS: PUNCT, Lemma: .\n"
          ]
        }
      ],
      "source": [
        "show_doc_info(doc)"
      ]
    },
    {
      "cell_type": "code",
      "execution_count": null,
      "metadata": {
        "id": "0_AZmWd4xONe"
      },
      "outputs": [],
      "source": [
        "# prompt: textbox where user text is imputed, procesed using nlp, and thne doc\n",
        "\n",
        "def process_text(text):\n",
        "  doc = nlp(text)\n",
        "  show_ner(doc)\n",
        "  print()\n",
        "  print(\"------\")\n",
        "  print()\n",
        "  show_doc_info(doc)\n",
        "  print()\n",
        "\n",
        "\n",
        "\n",
        "\n",
        "\n",
        "\n",
        "\n",
        "\n",
        "\n"
      ]
    },
    {
      "cell_type": "code",
      "execution_count": null,
      "metadata": {
        "colab": {
          "background_save": true,
          "base_uri": "https://localhost:8080/",
          "height": 1000
        },
        "id": "wnv9P92WQ_R3",
        "outputId": "8715f78c-01dc-4e32-ab6c-e3e383dafe36"
      },
      "outputs": [
        {
          "data": {
            "text/html": [
              "<span class=\"tex2jax_ignore\"><div class=\"entities\" style=\"line-height: 2.5; direction: ltr\">„Nek izađe čovek lepo sa svojim imenom i prezimenom, stavi sebe na čelo liste, nek traži direktne izbore. Ko ne dobije u prvom krugu, kao što vidite niko nije imao preko 50 odsto kao što je imao \n",
              "<mark class=\"entity\" style=\"background: #ddd; padding: 0.45em 0.6em; margin: 0 0.25em; line-height: 1; border-radius: 0.35em;\">\n",
              "    predsednik\n",
              "    <span style=\"font-size: 0.8em; font-weight: bold; line-height: 1; border-radius: 0.35em; vertical-align: middle; margin-left: 0.5rem\">ROLE</span>\n",
              "</mark>\n",
              " i odmah je izabran, idemo u drugi pa ćemo da vidimo u tom drugom krugu ko ima većinu“, rekao je \n",
              "<mark class=\"entity\" style=\"background: #ddd; padding: 0.45em 0.6em; margin: 0 0.25em; line-height: 1; border-radius: 0.35em;\">\n",
              "    Šapić\n",
              "    <span style=\"font-size: 0.8em; font-weight: bold; line-height: 1; border-radius: 0.35em; vertical-align: middle; margin-left: 0.5rem\">PERS</span>\n",
              "</mark>\n",
              " za \n",
              "<mark class=\"entity\" style=\"background: #7aecec; padding: 0.45em 0.6em; margin: 0 0.25em; line-height: 1; border-radius: 0.35em;\">\n",
              "    TV Pink\n",
              "    <span style=\"font-size: 0.8em; font-weight: bold; line-height: 1; border-radius: 0.35em; vertical-align: middle; margin-left: 0.5rem\">ORG</span>\n",
              "</mark>\n",
              ".</div></span>"
            ],
            "text/plain": [
              "<IPython.core.display.HTML object>"
            ]
          },
          "metadata": {},
          "output_type": "display_data"
        },
        {
          "data": {
            "text/plain": [
              "<IPython.core.display.HTML object>"
            ]
          },
          "metadata": {},
          "output_type": "display_data"
        },
        {
          "name": "stdout",
          "output_type": "stream",
          "text": [
            "\n",
            "------\n",
            "\n",
            "Document text: ['„Nek izađe čovek lepo sa svojim imenom i prezimenom, stavi sebe na', 'čelo liste, nek traži direktne izbore. Ko ne dobije u prvom krugu, kao', 'što vidite niko nije imao preko 50 odsto kao što je imao predsednik i', 'odmah je izabran, idemo u drugi pa ćemo da vidimo u tom drugom krugu', 'ko ima većinu“, rekao je Šapić za TV Pink.']\n",
            "- Token: „, POS: PUNCT, Lemma: „\n",
            "- Token: Nek, POS: SCONJ, Lemma: nek\n",
            "- Token: izađe, POS: VERB, Lemma: izaći\n",
            "- Token: čovek, POS: NOUN, Lemma: čovek\n",
            "- Token: lepo, POS: ADV, Lemma: lepo\n",
            "- Token: sa, POS: ADP, Lemma: sa\n",
            "- Token: svojim, POS: DET, Lemma: svoj\n",
            "- Token: imenom, POS: NOUN, Lemma: ime\n",
            "- Token: i, POS: CCONJ, Lemma: i\n",
            "- Token: prezimenom, POS: NOUN, Lemma: prezime\n",
            "- Token: ,, POS: PUNCT, Lemma: ,\n",
            "- Token: stavi, POS: VERB, Lemma: staviti\n",
            "- Token: sebe, POS: PRON, Lemma: sebe\n",
            "- Token: na, POS: ADP, Lemma: na\n",
            "- Token: čelo, POS: NOUN, Lemma: čela\n",
            "- Token: liste, POS: NOUN, Lemma: lista\n",
            "- Token: ,, POS: PUNCT, Lemma: ,\n",
            "- Token: nek, POS: PART, Lemma: nek\n",
            "- Token: traži, POS: VERB, Lemma: tražiti\n",
            "- Token: direktne, POS: ADJ, Lemma: direktan\n",
            "- Token: izbore, POS: NOUN, Lemma: izbor\n",
            "- Token: ., POS: PUNCT, Lemma: .\n",
            "- Token: Ko, POS: PRON, Lemma: ko\n",
            "- Token: ne, POS: PART, Lemma: ne\n",
            "- Token: dobije, POS: VERB, Lemma: dobiti\n",
            "- Token: u, POS: ADP, Lemma: u\n",
            "- Token: prvom, POS: ADJ, Lemma: prvi\n",
            "- Token: krugu, POS: NOUN, Lemma: krug\n",
            "- Token: ,, POS: PUNCT, Lemma: ,\n",
            "- Token: kao, POS: CCONJ, Lemma: kao\n",
            "- Token: što, POS: SCONJ, Lemma: što\n",
            "- Token: vidite, POS: VERB, Lemma: viditi\n",
            "- Token: niko, POS: PRON, Lemma: niki\n",
            "- Token: nije, POS: AUX, Lemma: jesam\n",
            "- Token: imao, POS: VERB, Lemma: imati\n",
            "- Token: preko, POS: ADP, Lemma: preko\n",
            "- Token: 50, POS: NUM, Lemma: @card@\n",
            "- Token: odsto, POS: ADV, Lemma: odsto\n",
            "- Token: kao, POS: CCONJ, Lemma: kao\n",
            "- Token: što, POS: SCONJ, Lemma: što\n",
            "- Token: je, POS: AUX, Lemma: jesam\n",
            "- Token: imao, POS: VERB, Lemma: imati\n",
            "- Token: predsednik, POS: NOUN, Lemma: predsednik\n",
            "- Token: i, POS: CCONJ, Lemma: i\n",
            "- Token: odmah, POS: ADV, Lemma: odmah\n",
            "- Token: je, POS: AUX, Lemma: jesam\n",
            "- Token: izabran, POS: VERB, Lemma: izabrati\n",
            "- Token: ,, POS: PUNCT, Lemma: ,\n",
            "- Token: idemo, POS: VERB, Lemma: ići\n",
            "- Token: u, POS: ADP, Lemma: u\n",
            "- Token: drugi, POS: ADJ, Lemma: drugi\n",
            "- Token: pa, POS: CCONJ, Lemma: pa\n",
            "- Token: ćemo, POS: AUX, Lemma: hteti\n",
            "- Token: da, POS: SCONJ, Lemma: da\n",
            "- Token: vidimo, POS: VERB, Lemma: viditi\n",
            "- Token: u, POS: ADP, Lemma: u\n",
            "- Token: tom, POS: DET, Lemma: taj\n",
            "- Token: drugom, POS: ADJ, Lemma: drugi\n",
            "- Token: krugu, POS: NOUN, Lemma: krug\n",
            "- Token: ko, POS: SCONJ, Lemma: ko\n",
            "- Token: ima, POS: VERB, Lemma: imati\n",
            "- Token: većinu, POS: NOUN, Lemma: većina\n",
            "- Token: “, POS: PUNCT, Lemma: “\n",
            "- Token: ,, POS: PUNCT, Lemma: ,\n",
            "- Token: rekao, POS: VERB, Lemma: reći\n",
            "- Token: je, POS: AUX, Lemma: jesam\n",
            "- Token: Šapić, POS: PROPN, Lemma: Šapić\n",
            "- Token: za, POS: ADP, Lemma: za\n",
            "- Token: TV, POS: PROPN, Lemma: TV\n",
            "- Token: Pink, POS: PROPN, Lemma: Pink\n",
            "- Token: ., POS: PUNCT, Lemma: .\n",
            "\n"
          ]
        }
      ],
      "source": [
        "text1 =\"\"\"„Nek izađe čovek lepo sa svojim imenom i prezimenom, stavi sebe na čelo liste, nek traži direktne izbore. Ko ne dobije u prvom krugu, kao što vidite niko nije imao preko 50 odsto kao što je imao predsednik i odmah je izabran, idemo u drugi pa ćemo da vidimo u tom drugom krugu ko ima većinu“, rekao je Šapić za TV Pink.\"\"\"\n",
        "\n",
        "process_text(text1)\n"
      ]
    },
    {
      "cell_type": "code",
      "execution_count": null,
      "metadata": {
        "colab": {
          "base_uri": "https://localhost:8080/",
          "height": 957
        },
        "id": "3_sYO_4wSVsG",
        "outputId": "d0703787-414d-407f-de4c-a149b6a3dae4"
      },
      "outputs": [
        {
          "data": {
            "text/html": [
              "<span class=\"tex2jax_ignore\"><div class=\"entities\" style=\"line-height: 2.5; direction: ltr\">\n",
              "<mark class=\"entity\" style=\"background: #ddd; padding: 0.45em 0.6em; margin: 0 0.25em; line-height: 1; border-radius: 0.35em;\">\n",
              "    Srpski\n",
              "    <span style=\"font-size: 0.8em; font-weight: bold; line-height: 1; border-radius: 0.35em; vertical-align: middle; margin-left: 0.5rem\">DEMO</span>\n",
              "</mark>\n",
              " jezik koristi dva pisma, ćirilicu i latinicu, kao i dva izgovora, ekavicu i ijekavicu. Kombinacijom pisma i izgovora dobijaju se 4 varijante (ćirilica-ekavica, ćirilica-ijekavica, latinica-ekavica i latinica-ijekavica), koje su potpuno ravnopravne u \n",
              "<mark class=\"entity\" style=\"background: #ddd; padding: 0.45em 0.6em; margin: 0 0.25em; line-height: 1; border-radius: 0.35em;\">\n",
              "    srpskom\n",
              "    <span style=\"font-size: 0.8em; font-weight: bold; line-height: 1; border-radius: 0.35em; vertical-align: middle; margin-left: 0.5rem\">DEMO</span>\n",
              "</mark>\n",
              " jeziku.</div></span>"
            ],
            "text/plain": [
              "<IPython.core.display.HTML object>"
            ]
          },
          "metadata": {},
          "output_type": "display_data"
        },
        {
          "data": {
            "text/plain": [
              "<IPython.core.display.HTML object>"
            ]
          },
          "metadata": {},
          "output_type": "display_data"
        },
        {
          "name": "stdout",
          "output_type": "stream",
          "text": [
            "\n",
            "------\n",
            "\n",
            "Document text: ['Srpski jezik koristi dva pisma, ćirilicu i latinicu, kao i dva', 'izgovora, ekavicu i ijekavicu. Kombinacijom pisma i izgovora dobijaju', 'se 4 varijante (ćirilica-ekavica, ćirilica-ijekavica, latinica-ekavica', 'i latinica-ijekavica), koje su potpuno ravnopravne u srpskom jeziku.']\n",
            "- Token: Srpski, POS: ADJ, Lemma: srpski\n",
            "- Token: jezik, POS: NOUN, Lemma: jezik\n",
            "- Token: koristi, POS: VERB, Lemma: koristiti\n",
            "- Token: dva, POS: NUM, Lemma: dva\n",
            "- Token: pisma, POS: NOUN, Lemma: pisma\n",
            "- Token: ,, POS: PUNCT, Lemma: ,\n",
            "- Token: ćirilicu, POS: NOUN, Lemma: ćirilica\n",
            "- Token: i, POS: CCONJ, Lemma: i\n",
            "- Token: latinicu, POS: NOUN, Lemma: latinica\n",
            "- Token: ,, POS: PUNCT, Lemma: ,\n",
            "- Token: kao, POS: CCONJ, Lemma: kao\n",
            "- Token: i, POS: CCONJ, Lemma: i\n",
            "- Token: dva, POS: NUM, Lemma: dva\n",
            "- Token: izgovora, POS: NOUN, Lemma: izgovor\n",
            "- Token: ,, POS: PUNCT, Lemma: ,\n",
            "- Token: ekavicu, POS: NOUN, Lemma: ekavica\n",
            "- Token: i, POS: CCONJ, Lemma: i\n",
            "- Token: ijekavicu, POS: NOUN, Lemma: ijekavica\n",
            "- Token: ., POS: PUNCT, Lemma: .\n",
            "- Token: Kombinacijom, POS: NOUN, Lemma: Kombinacijom\n",
            "- Token: pisma, POS: NOUN, Lemma: pisma\n",
            "- Token: i, POS: CCONJ, Lemma: i\n",
            "- Token: izgovora, POS: NOUN, Lemma: izgovor\n",
            "- Token: dobijaju, POS: VERB, Lemma: dobijati\n",
            "- Token: se, POS: PART, Lemma: se\n",
            "- Token: 4, POS: NUM, Lemma: @card@\n",
            "- Token: varijante, POS: NOUN, Lemma: varijanta\n",
            "- Token: (, POS: PUNCT, Lemma: (\n",
            "- Token: ćirilica-ekavica, POS: NOUN, Lemma: ćirilica-ekavica\n",
            "- Token: ,, POS: PUNCT, Lemma: ,\n",
            "- Token: ćirilica-ijekavica, POS: NOUN, Lemma: ćirilica-ijekavica\n",
            "- Token: ,, POS: PUNCT, Lemma: ,\n",
            "- Token: latinica-ekavica, POS: NOUN, Lemma: latinica-ekavica\n",
            "- Token: i, POS: CCONJ, Lemma: i\n",
            "- Token: latinica-ijekavica, POS: NOUN, Lemma: latinica-ijekavica\n",
            "- Token: ), POS: PUNCT, Lemma: )\n",
            "- Token: ,, POS: PUNCT, Lemma: ,\n",
            "- Token: koje, POS: DET, Lemma: koji\n",
            "- Token: su, POS: AUX, Lemma: jesam\n",
            "- Token: potpuno, POS: ADV, Lemma: potpuno\n",
            "- Token: ravnopravne, POS: ADJ, Lemma: ravnopravan\n",
            "- Token: u, POS: ADP, Lemma: u\n",
            "- Token: srpskom, POS: ADJ, Lemma: srpski\n",
            "- Token: jeziku, POS: NOUN, Lemma: jezik\n",
            "- Token: ., POS: PUNCT, Lemma: .\n",
            "\n"
          ]
        }
      ],
      "source": [
        "text2 = \"\"\"Srpski jezik koristi dva pisma, ćirilicu i latinicu, kao i dva izgovora, ekavicu i ijekavicu. Kombinacijom pisma i izgovora dobijaju se 4 varijante (ćirilica-ekavica, ćirilica-ijekavica, latinica-ekavica i latinica-ijekavica), koje su potpuno ravnopravne u srpskom jeziku.\"\"\"\n",
        "\n",
        "process_text(text2)\n",
        "\n"
      ]
    },
    {
      "cell_type": "code",
      "execution_count": null,
      "metadata": {
        "id": "uRCR5IDgTYRC"
      },
      "outputs": [],
      "source": [
        "text3 = \"\"\"Prvi svetski rat je trajao od 1914. do 1918. godine. U njemu je učestvovala većina velikih svetskih sila, grupisanih u dva sukobljena vojna saveza: Saveznika (okupljenih oko Trojne Antante) i Centralnih sila. Više od 70 miliona ljudi je bilo pod oružjem, a od toga preko 60 miliona ljudi u Evropi je bilo mobilisano u jedan od najvećih ratova u istoriji.\n",
        "Posledice rata su bile da je ubijeno više od 15 miliona ljudi, 20 miliona ranjeno, a direktne učesnice rata pretrpele su i ogromna razaranja država i privreda.[4] Prvi svetski rat poznat je i pod imenima Veliki rat i Svetski rat (do izbijanja Drugog svetskog rata).\n",
        "\n",
        "Prvi svetski rat su vodila dva velika saveza. Sile Antante su na početku činile Srbija, Crna Gora, Rusija, Francuska, Velika Britanija i Japan. Centralne sile su pre početka rata činile Nemačka, Austrougarska i Italija, koja je zbog Londonskog ugovora od 26. aprila 1915. godine, kojim je za Italiju predviđen deo Dalmacije, Istra, Gorica, Kvarnerska ostrva i Dodokanezi, pristupila silama Antante.\n",
        "Osmansko carstvo se pridružilo Centralnim silama oktobra 1914, a godinu dana kasnije to je uradila i Bugarska. SAD ulaze u rat 6. aprila 1917. posle objavljivanja Cimermanovog telegrama kojim dobijaju povod. Rumunija pristupa Antanti 1916 kada je potpisan Bukureški sporazum. Grčka je na početku rata bila neutralna, ali 1917. pristupa strani Antante. Do završetka rata, od evropskih zemalja Holandija, Švajcarska, Španija i skandinavske države su ostale zvanično neutralne.\n",
        "\n",
        "Neposredni povod za rat je bio atentat na naslednika austrougarskog prestola, nadvojvodu Franca Ferdinanda u Sarajevu 28. juna 1914, koga je ubio Gavrilo Princip, Srbin iz Bosne, koja je tada bila deo Austrougarske.\n",
        "Objava rata Austrougarske Srbiji aktivirala je niz savezništava koja su pokrenula lančanu reakciju objava rata. Do kraja avgusta 1914. veći deo Evrope se našao u ratu.\"\"\"\n",
        "\n",
        "process_text(text3)"
      ]
    },
    {
      "cell_type": "code",
      "execution_count": null,
      "metadata": {
        "id": "DCOZUGS5vZTD"
      },
      "outputs": [],
      "source": []
    }
  ],
  "metadata": {
    "colab": {
      "provenance": []
    },
    "kernelspec": {
      "display_name": "Python 3",
      "name": "python3"
    },
    "language_info": {
      "name": "python"
    }
  },
  "nbformat": 4,
  "nbformat_minor": 0
}