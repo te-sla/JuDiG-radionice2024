{
  "nbformat": 4,
  "nbformat_minor": 0,
  "metadata": {
    "colab": {
      "provenance": []
    },
    "kernelspec": {
      "name": "python3",
      "display_name": "Python 3"
    },
    "language_info": {
      "name": "python"
    }
  },
  "cells": [
    {
      "cell_type": "markdown",
      "source": [
        "# API usage of It-Sr-NER\n",
        "https://github.com/rankastankovic/It-Sr-NER/tree/main/corpus\n"
      ],
      "metadata": {
        "id": "Ar8Ck2u3BndU"
      }
    },
    {
      "cell_type": "markdown",
      "source": [
        "URL: https://ners.jerteh.rs/api\n",
        "\n",
        "\n",
        "```\n",
        "API_KEYS: [\"file\", \"data\", \"lng\", \"feat\"]\n",
        "```\n",
        "\n",
        "What should be processed file:\n",
        "\n",
        "1.   **file**: that should be processed [file]\n",
        "2.   **data**: string that should be processed [string] (can also be URL to a text file)\n",
        "\n",
        "How it should be processed\n",
        "\n",
        "\n",
        "1.   **lng**: language code [string]\n",
        "2.   **feat**: type of features required `[\"ner\"|\"nel\"|\"nernel\"|\"geo\"]`\n",
        "\n",
        "Type of features meaning (**feat**) :\n",
        "1. \"ner\" will trigger only NER parsing of the above submitted text\n",
        "2. \"nel\" will trigger only NEL parsing of the above submitted text\n",
        "3. \"nernel\" will trigger both\n",
        "4. \"geo\" will trigger both NER and NEL parsing, but will produce a Geolocation map."
      ],
      "metadata": {
        "id": "KxUSPtm-CyvI"
      }
    },
    {
      "cell_type": "code",
      "execution_count": null,
      "metadata": {
        "id": "Bclv4idTsbFQ"
      },
      "outputs": [],
      "source": [
        "import requests  # Import the requests library"
      ]
    },
    {
      "cell_type": "code",
      "source": [
        "# choose language - lang, and feat\n",
        "lang = \"sr\"  #@param ['ca','zh','hr','da','nl','en','fi','fr','de','el','it','ja','ko','lt','mk','nb','pl','pt','ro','ru','es','sv','uk','sr']\n",
        "feat = \"ner\" #@param ['ner', 'nel', 'nernel','geo']"
      ],
      "metadata": {
        "id": "4e9fJEahExRB"
      },
      "execution_count": null,
      "outputs": []
    },
    {
      "cell_type": "code",
      "source": [
        "# read text from input file\n",
        "file_name = 'proba.txt' # add name of your file\n",
        "data = open(file_name,'r',encoding='utf-8').read()\n",
        "#data = 'Danas je Beograd sunčan i sve je u Srbiji lepo. Milica šeta Kalemegdanom.'"
      ],
      "metadata": {
        "id": "m98mkAQ-FaLl"
      },
      "execution_count": null,
      "outputs": []
    },
    {
      "cell_type": "code",
      "source": [
        "from bs4 import BeautifulSoup\n",
        "\n",
        "# -*- coding: utf-8 -*-\n",
        "API_KEY = [\"file\", \"data\", \"lng\", \"feat\"]\n",
        "url = 'https://ners.jerteh.rs/api'\n",
        "params = dict(key=API_KEY, data=data, lng=lang, feat=feat)\n",
        "res = requests.get(url, params=params)\n",
        "#print(res.text)\n",
        "\n",
        "if res.ok:\n",
        "    # Determine the encoding from the response headers or content\n",
        "    content_type = res.headers.get('content-type')\n",
        "    encoding = 'utf-8'  # Default to UTF-8 if not specified\n",
        "\n",
        "    if content_type and 'charset=' in content_type:\n",
        "        encoding = content_type.split('charset=')[-1]\n",
        "\n",
        "    # Decode the response content using the determined encoding\n",
        "    decoded_content = res.content.decode(encoding)\n",
        "\n",
        "    # Print or use the decoded content\n",
        "    print(decoded_content)\n",
        "else:\n",
        "    print(f\"API request failed with status code {res.status_code}\")\n",
        "    print(res.text)"
      ],
      "metadata": {
        "id": "hRC2QoMK5_ph",
        "colab": {
          "base_uri": "https://localhost:8080/"
        },
        "outputId": "ba135349-0f88-46bc-d89d-e7a1941e4214"
      },
      "execution_count": null,
      "outputs": [
        {
          "output_type": "stream",
          "name": "stdout",
          "text": [
            "<html >\n",
            "<head>\n",
            "    <meta charset=\"UTF-8\">\n",
            "    <link rel=\"stylesheet\" href=\"/static/ner.css\">\n",
            "    <script src=\"https://ajax.googleapis.com/ajax/libs/jquery/3.6.0/jquery.min.js\"></script>\n",
            "    <script>\n",
            "$(document).ready(function() {\n",
            "\n",
            "  $(\"[ref]\").click(function() {\n",
            "    window.open($(this).attr(\"ref\"), '_blank').focus();\n",
            "    return false;\n",
            "  });\n",
            "});\n",
            "function dwn(){\n",
            "        var r = $('#response').html();\n",
            "\n",
            "        const array = [\"loc\", \"pers\", \"org\", \"demo\", \"work\", \"event\", \"person\", \"wdt\"]\n",
            "        array.forEach(function (item, index) {\n",
            "          r = r.replaceAll('<' + item + '>', '<' + item.toUpperCase() + '>');\n",
            "          r = r.replaceAll('</' + item + '>', '</' + item.toUpperCase() + '>');\n",
            "        });\n",
            "\n",
            "      var base64doc = btoa(unescape(encodeURIComponent(r))),\n",
            "      a = document.createElement('a'),\n",
            "      e = new MouseEvent('click');\n",
            "\n",
            "  a.download = 'results';\n",
            "  a.href = 'data:application/xml;base64,' + base64doc;\n",
            "  a.dispatchEvent(e);\n",
            "}\n",
            "    </script>\n",
            "</head>\n",
            "\n",
            "<body>\n",
            "<button onclick=\"dwn()\" style=\"float:right\">Download XML</button>\n",
            "<br/><br/>\n",
            "<div id=\"response\"><PERS>Milica</PERS> je u <LOC>Beogradu</LOC> stekla prijatelje. Svi su šetlai <LOC>Knez Mihajlovom</LOC> i gledali nasmejana lica.\n",
            "Tu je bio <PERS>Marko</PERS>, <PERS>Žarko</PERS> i <PERS>Toma</PERS>.</div>\n",
            "</body>\n",
            "</html>\n"
          ]
        }
      ]
    },
    {
      "cell_type": "code",
      "source": [
        "import requests\n",
        "\n",
        "# API endpoint that returns text content\n",
        "api_url = \"https://example.com/api\"\n",
        "\n",
        "# Make the API request\n",
        "response = requests.get(url, params=params)\n",
        "# Check if the request was successful (HTTP status code 200)\n",
        "if response.ok:\n",
        "    # Determine the encoding from the response headers or content\n",
        "    content_type = response.headers.get('content-type')\n",
        "    encoding = 'utf-8'  # Default to UTF-8 if not specified\n",
        "\n",
        "    if content_type and 'charset=' in content_type:\n",
        "        encoding = content_type.split('charset=')[-1].strip()\n",
        "\n",
        "    # Decode the response content using the determined encoding\n",
        "    decoded_content = response.content.decode(encoding)\n",
        "\n",
        "    # Print the decoded content (result of the API)\n",
        "    soup = BeautifulSoup(decoded_content, 'html.parser')\n",
        "    response_div = soup.find('div', id='response')\n",
        "\n",
        "    inner_content = ''.join(map(str, response_div.contents))\n",
        "\n",
        "    print(inner_content)\n",
        "else:\n",
        "    print(f\"API request failed with status code {response.status_code}\")\n",
        "    print(response.text)\n"
      ],
      "metadata": {
        "colab": {
          "base_uri": "https://localhost:8080/"
        },
        "id": "QGAsgGrHKGvo",
        "outputId": "5414f4e7-594f-49dc-dd39-f5294ef1c032"
      },
      "execution_count": null,
      "outputs": [
        {
          "output_type": "stream",
          "name": "stdout",
          "text": [
            "<pers>Milica</pers> je u <loc>Beogradu</loc> stekla prijatelje. Svi su šetlai <loc>Knez Mihajlovom</loc> i gledali nasmejana lica.\n",
            "Tu je bio <pers>Marko</pers>, <pers>Žarko</pers> i <pers>Toma</pers>.\n"
          ]
        }
      ]
    }
  ]
}